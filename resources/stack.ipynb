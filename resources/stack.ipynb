{
 "cells": [
  {
   "cell_type": "markdown",
   "metadata": {},
   "source": [
    "1. 스택이란?\n",
    "\n",
    "가장 나중에 넣은 데이터를 가장 먼저 빼낼 수 있는 데이터 구조로 Last In First Out(LIFO) 방식이다.\n",
    "  \n",
    "(혹은 FILO : First In Last Out)\n",
    "\n",
    "파이썬에서는 list [] 로 이미 구현되어있다.\n",
    "\n",
    "[Reference. https://gorokke.tistory.com/129]"
   ]
  },
  {
   "cell_type": "markdown",
   "metadata": {},
   "source": [
    "2. 사용법(내장함수 이용)\n",
    "\n",
    "a_list.append(1) : 괄호 안의 요소를 리스트 맨 뒤에 추가합니다!!"
   ]
  },
  {
   "cell_type": "code",
   "execution_count": 1,
   "metadata": {},
   "outputs": [],
   "source": [
    "a_list = [1,2,3]\n",
    "a_list.append(1)"
   ]
  },
  {
   "cell_type": "markdown",
   "metadata": {},
   "source": [
    "a_list.pop() : 리스트의 맨 뒤에 요소를 추출하고 리스트에서 삭제합니다!!"
   ]
  },
  {
   "cell_type": "code",
   "execution_count": 2,
   "metadata": {},
   "outputs": [
    {
     "name": "stdout",
     "output_type": "stream",
     "text": [
      "2\n"
     ]
    }
   ],
   "source": [
    "a_list = [1,2,3]\n",
    "a_list.pop()\n",
    "\n",
    "print(a_list.pop())"
   ]
  },
  {
   "cell_type": "markdown",
   "metadata": {},
   "source": [
    "3. 클래스를 이용한 스택 구현"
   ]
  },
  {
   "cell_type": "code",
   "execution_count": 3,
   "metadata": {},
   "outputs": [],
   "source": [
    "## Stack Class\n",
    " \n",
    "class stack:\n",
    "    def __init__(self):  # 스택 객체 생성\n",
    "        self.items = []\n",
    "    def push(self, item):  # 스택 요소 추가 push(.append())\n",
    "        self.items.append(item)\n",
    "    def pop(self):   # 스택 요소 삭제 pop()\n",
    "        return self.items.pop()\n",
    "    def peek(self):  # 스택 맨 앞 요소 리턴\n",
    "        return self[0]\n",
    "    def isEmpty(self):  # 스택이 비었는지 확인(비었으면 True 리턴)\n",
    "        return not self.items\n",
    "    \n",
    " "
   ]
  },
  {
   "cell_type": "code",
   "execution_count": 8,
   "metadata": {},
   "outputs": [
    {
     "name": "stdout",
     "output_type": "stream",
     "text": [
      "<__main__.stack object at 0x106b9ead0>\n"
     ]
    }
   ],
   "source": [
    "stk = stack()        # stack 객체 생성\n",
    "print(stk)           # stack object 생성 확인"
   ]
  },
  {
   "cell_type": "code",
   "execution_count": 5,
   "metadata": {},
   "outputs": [
    {
     "name": "stdout",
     "output_type": "stream",
     "text": [
      "True\n"
     ]
    }
   ],
   "source": [
    "print(stk.isEmpty()) # 처음에는 아무것도 들어있지 않으므로 True 출력"
   ]
  },
  {
   "cell_type": "code",
   "execution_count": 10,
   "metadata": {},
   "outputs": [
    {
     "name": "stdout",
     "output_type": "stream",
     "text": [
      "2\n"
     ]
    }
   ],
   "source": [
    "stk.push(1)          # stk 에 1 추가 : [1]\n",
    "stk.push(2)          # stk 에 2 추가 : [1,2]\n",
    "print(stk.pop())     # stk 에 2가 꺼내지면서 출력 : 2 / [1]\n"
   ]
  },
  {
   "cell_type": "code",
   "execution_count": 12,
   "metadata": {},
   "outputs": [
    {
     "name": "stdout",
     "output_type": "stream",
     "text": [
      "False\n"
     ]
    }
   ],
   "source": [
    "print(stk.isEmpty()) # 비어있지 않으므로 False 출력\n"
   ]
  },
  {
   "cell_type": "code",
   "execution_count": 13,
   "metadata": {},
   "outputs": [
    {
     "name": "stdout",
     "output_type": "stream",
     "text": [
      "1\n"
     ]
    }
   ],
   "source": [
    "print(stk.pop())     # stk 에 1이 제거되면서 출력 : 1 / []\n"
   ]
  },
  {
   "cell_type": "code",
   "execution_count": 15,
   "metadata": {},
   "outputs": [
    {
     "name": "stdout",
     "output_type": "stream",
     "text": [
      "True\n"
     ]
    }
   ],
   "source": [
    "print(stk.isEmpty()) # 객체에 아무것도 들어있지 않으므로 True 출력"
   ]
  },
  {
   "cell_type": "markdown",
   "metadata": {},
   "source": [
    "4. 웹서핑에서 이전 페이지 돌아가기                  \n",
    "\n",
    "[Ref. 파이썬 자료구조와 알고리즘 p.220 스택의 응용]"
   ]
  },
  {
   "cell_type": "code",
   "execution_count": null,
   "metadata": {},
   "outputs": [],
   "source": [
    "import webbrowser\n",
    "import time\n",
    "\n",
    "## 함수 선언 부분 ##\n",
    "def isStackFull() :\n",
    "\tglobal SIZE, stack, top\n",
    "\tif (top >= SIZE-1) :\n",
    "\t\treturn True\n",
    "\telse :\n",
    "\t\treturn False\n",
    "\n",
    "def isStackEmpty() :\n",
    "\tglobal SIZE, stack, top\n",
    "\tif (top == -1) :\n",
    "\t\treturn True\n",
    "\telse :\n",
    "\t\treturn False\n",
    "\n",
    "def push(data) :\n",
    "\tglobal SIZE, stack, top\n",
    "\tif (isStackFull()) :\n",
    "\t\tprint(\"스택이 꽉 찼습니다.\")\n",
    "\t\treturn\n",
    "\ttop += 1\n",
    "\tstack[top] = data\n",
    "\n",
    "def pop() :\n",
    "\tglobal SIZE, stack, top\n",
    "\tif (isStackEmpty()) :\n",
    "\t\tprint(\"스택이 비었습니다.\")\n",
    "\t\treturn None\n",
    "\tdata = stack[top]\n",
    "\tstack[top] = None\n",
    "\ttop -= 1\n",
    "\treturn data\n",
    "\n",
    "def peek() :\n",
    "\tglobal SIZE, stack, top\n",
    "\tif (isStackEmpty()) :\n",
    "\t\tprint(\"스택이 비었습니다.\")\n",
    "\t\treturn None\n",
    "\treturn stack[top]\n",
    "\n",
    "## 전역 변수 선언 부분 ##\n",
    "SIZE = 100\n",
    "stack = [ None for _ in range(SIZE) ]\n",
    "top = -1\n",
    "\n",
    "## 메인 코드 부분 ##\n",
    "if __name__ == \"__main__\" :\n",
    "\turls = [ 'naver.com', 'daum.net', 'nate.com']\n",
    "\n",
    "\tfor url in urls :\n",
    "\t\tpush(url)\n",
    "\t\twebbrowser.open('http://'+url)\n",
    "\t\tprint(url, end = '-->')\n",
    "\t\ttime.sleep(1)\n",
    "\n",
    "\tprint(\"방문 종료\")\n",
    "\ttime.sleep(5)\n",
    "\n",
    "\twhile True :\n",
    "\t\turl = pop()\n",
    "\t\tif url == None :\n",
    "\t\t\tbreak\n",
    "\t\twebbrowser.open('http://'+url)\n",
    "\t\tprint(url, end = '-->')\n",
    "\t\ttime.sleep(1)\n",
    "\tprint(\"방문 종료\")\n"
   ]
  }
 ],
 "metadata": {
  "kernelspec": {
   "display_name": "Python 3.10.7 64-bit",
   "language": "python",
   "name": "python3"
  },
  "language_info": {
   "codemirror_mode": {
    "name": "ipython",
    "version": 3
   },
   "file_extension": ".py",
   "mimetype": "text/x-python",
   "name": "python",
   "nbconvert_exporter": "python",
   "pygments_lexer": "ipython3",
   "version": "3.10.7"
  },
  "orig_nbformat": 4,
  "vscode": {
   "interpreter": {
    "hash": "aee8b7b246df8f9039afb4144a1f6fd8d2ca17a180786b69acc140d282b71a49"
   }
  }
 },
 "nbformat": 4,
 "nbformat_minor": 2
}
